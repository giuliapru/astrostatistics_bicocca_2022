{
 "cells": [
  {
   "cell_type": "markdown",
   "metadata": {},
   "source": [
    "# Monty Hall"
   ]
  },
  {
   "cell_type": "markdown",
   "metadata": {},
   "source": [
    "Let's suppose we're in a quiz show.\n",
    "There are three doors, one with a car behind and the other two with goats, if you find the car you win.\n",
    "\n",
    "Partecipants are asked to pick a closed door and the host then opens a different door revealing a goat. Simulate the case in which the partecipant doesn't change the chosen door after the reveal, the case in which they always switch, and a third case in which the partecipant arrives after that one door with a goat has been opened."
   ]
  },
  {
   "cell_type": "markdown",
   "metadata": {},
   "source": [
    "### 3 doors"
   ]
  },
  {
   "cell_type": "code",
   "execution_count": 1,
   "metadata": {},
   "outputs": [],
   "source": [
    "import numpy as np\n",
    "\n",
    "doors = ['car', 'goat', 'goat'] #the three doors\n",
    "\n",
    "#winning counts\n",
    "win_A = 0\n",
    "win_B = 0\n",
    "win_C = 0\n",
    "\n",
    "#number of games\n",
    "N_tries = 100000"
   ]
  },
  {
   "cell_type": "code",
   "execution_count": 2,
   "metadata": {},
   "outputs": [],
   "source": [
    "#The conservative case\n",
    "\n",
    "for j in range(N_tries):\n",
    "    \n",
    "    np.random.shuffle(doors)       #shuffling the doors\n",
    "    \n",
    "    A = np.random.choice([0,1,2])  #extracting one door for player A\n",
    "    \n",
    "    #opening a door for partecipant A that contains a goat and that is different from the one chosen by A\n",
    "    #in the case of A this passage is useless since they won't change their mind after.\n",
    "    for i in range(3):\n",
    "        if doors[i]=='goat' and i!=A:\n",
    "            open_A = i\n",
    "            break\n",
    "            \n",
    "    #if A finds the car A wins!\n",
    "    if doors[A] == 'car':\n",
    "        win_A = win_A +1\n",
    "\n",
    "#winning probability for A\n",
    "prob_A = win_A/N_tries"
   ]
  },
  {
   "cell_type": "code",
   "execution_count": 3,
   "metadata": {},
   "outputs": [],
   "source": [
    "#Switcher case\n",
    "\n",
    "for j in range(N_tries):\n",
    "    \n",
    "    np.random.shuffle(doors)      #shuffling the doors\n",
    "    \n",
    "    B = np.random.choice([0,1,2]) #extracting one door for player B\n",
    "    \n",
    "    #opening a door different from the one chosen by B that contains a goat\n",
    "    for i in range(3):  \n",
    "        if doors[i]=='goat' and i!=B: \n",
    "            open_B = i\n",
    "            break\n",
    "    \n",
    "    #B changes idea and picks B_new different from the previous choice and the open door\n",
    "    for i in range(3):\n",
    "        if i!=open_B and i!=B:\n",
    "            B_new = i\n",
    "    \n",
    "    #if B finds the car B wins!\n",
    "    if doors[B_new]=='car':\n",
    "        win_B = win_B +1\n",
    "        \n",
    "#winning probability for B\n",
    "prob_B = win_B/N_tries"
   ]
  },
  {
   "cell_type": "code",
   "execution_count": 4,
   "metadata": {},
   "outputs": [],
   "source": [
    "#The late one\n",
    "\n",
    "for j in range(N_tries):\n",
    "    doors_C = ['car', 'goat']   #C has only two doors to choose from\n",
    "    \n",
    "    np.random.shuffle(doors_C)  #\"shuffling\"\n",
    "    \n",
    "    C = np.random.choice([0,1]) #C picks one of the two doors\n",
    "    \n",
    "    #if C gets the car C wins!\n",
    "    if doors_C[C] == 'car':\n",
    "        win_C = win_C +1\n",
    "\n",
    "#winning probability for C\n",
    "prob_C = win_C/N_tries   "
   ]
  },
  {
   "cell_type": "code",
   "execution_count": 5,
   "metadata": {},
   "outputs": [
    {
     "data": {
      "text/plain": [
       "Text(1.88, 0.51912, '0.50')"
      ]
     },
     "execution_count": 5,
     "metadata": {},
     "output_type": "execute_result"
    },
    {
     "data": {
      "image/png": "[encoded data removed]",
      "text/plain": [
       "<Figure size 432x432 with 1 Axes>"
      ]
     },
     "metadata": {
      "needs_background": "light"
     },
     "output_type": "display_data"
    }
   ],
   "source": [
    "#Visualizing data\n",
    "\n",
    "import matplotlib.pyplot as plt\n",
    "\n",
    "fig = plt.figure(figsize=(6,6))\n",
    "ax = fig.add_subplot(111)\n",
    "\n",
    "partecipants = ('conservative', 'switcher', 'the late one')\n",
    "winning_prob = [prob_A, prob_B, prob_C]\n",
    "\n",
    "x_pos = np.arange(len(partecipants))\n",
    "ax.bar(x_pos,winning_prob)\n",
    "ax.set_xticks(x_pos)\n",
    "ax.set_xticklabels(partecipants)\n",
    "ax.set_title(\"Three doors: winning probability\", fontsize=16)\n",
    "ax.set_ylim(0,1)\n",
    "\n",
    "ax.text( -0.12, prob_A+0.02, \"%.2f\" %prob_A, fontsize=14)\n",
    "ax.text(1-0.12, prob_B+0.02, \"%.2f\" %prob_B, fontsize=14)\n",
    "ax.text(2-0.12, prob_C+0.02, \"%.2f\" %prob_C, fontsize=14)"
   ]
  },
  {
   "cell_type": "markdown",
   "metadata": {},
   "source": [
    "### 100 doors"
   ]
  },
  {
   "cell_type": "markdown",
   "metadata": {},
   "source": [
    "Now what if we have 100 doors and the host choose to open 98 doors with goats?"
   ]
  },
  {
   "cell_type": "code",
   "execution_count": 6,
   "metadata": {},
   "outputs": [
    {
     "data": {
      "text/plain": [
       "Text(1.84, 0.54842, '0.498')"
      ]
     },
     "execution_count": 6,
     "metadata": {},
     "output_type": "execute_result"
    },
    {
     "data": {
      "image/png": "[encoded data removed]",
      "text/plain": [
       "<Figure size 432x432 with 1 Axes>"
      ]
     },
     "metadata": {
      "needs_background": "light"
     },
     "output_type": "display_data"
    }
   ],
   "source": [
    "doors = ['goat' for i in range(99)] #99 goats\n",
    "doors.append('car')\n",
    "\n",
    "#winning counts\n",
    "win_A = 0\n",
    "win_B = 0\n",
    "win_C = 0\n",
    "\n",
    "#number of games\n",
    "N_tries = 100000\n",
    "\n",
    "for j in range(N_tries):\n",
    "    \n",
    "    np.random.shuffle(doors)                #shuffling the doors\n",
    "    \n",
    "    A = np.random.randint(0,100)            #extracting the conservative choice\n",
    "    if doors[A] == 'car':                   #if A finds the car A wins\n",
    "        win_A += 1\n",
    "    \n",
    "    B = np.random.randint(0,100)            #extracting the switcher choice \n",
    "    \n",
    "    if doors[B]!='car':                     #if the initial choice of B is not the car, since the player always switch he wins!\n",
    "        win_B += 1\n",
    "    \n",
    "    doors_C = ['car', 'goat']               #C has only two doors among which they can choose\n",
    "    np.random.shuffle(doors_C)\n",
    "    C = np.random.choice([0,1])\n",
    "    if doors_C[C] == 'car':\n",
    "        win_C += 1\n",
    "        \n",
    "#winning probability for the three players\n",
    "prob_A = win_A/N_tries \n",
    "prob_B = win_B/N_tries\n",
    "prob_C = win_C/N_tries\n",
    "\n",
    "#plotting the results\n",
    "fig = plt.figure(figsize=(6,6))\n",
    "ax = fig.add_subplot(111)\n",
    "\n",
    "partecipants = ('conservative', 'switcher', 'the late one')\n",
    "winning_prob = [prob_A, prob_B, prob_C]\n",
    "\n",
    "x_pos = np.arange(len(partecipants))\n",
    "ax.bar(x_pos,winning_prob)\n",
    "ax.set_xticks(x_pos)\n",
    "ax.set_xticklabels(partecipants)\n",
    "ax.set_title(\"100 doors: winning probability\", fontsize=16)\n",
    "ax.set_yscale('log')\n",
    "ax.set_ylim(0.007, 1.5)\n",
    "\n",
    "ax.text( -0.2, prob_A+0.0005, \"%.3f\" %prob_A, fontsize=14)\n",
    "ax.text(1-0.16, prob_B+0.08, \"%.3f\" %prob_B, fontsize=14)\n",
    "ax.text(2-0.16, prob_C+0.05, \"%.3f\" %prob_C, fontsize=14)"
   ]
  },
  {
   "cell_type": "markdown",
   "metadata": {},
   "source": [
    "These results could be explained with Bayes' Theorem. Let's suppose that we have $N$ doors and we are certain of the statement $I$: only behind one door there's a car. \n",
    "The probability of picking the door with the car at the beginning is:\n",
    "\n",
    "$$p(H_{i}|I) = \\frac{1}{N} $$ \n",
    "\n",
    "which also represents the probability for A to win, since the conservative player never changes the door.\n",
    "But now we could say that the door chosen by player B is the first and the host opens 98 doors behind which there are goats, so the statement $d_{k}$: all but the first and the k-th door are hiding goats is verified. So what's the probability that the car is behind the first door given these statements? We could use Bayes' theorem.\n",
    "\n",
    "$$p(H_{1}|d_{k}, I) = \\frac{p(d_{k}|H_{1}, I) p(H_{1}|I)}{p(d_{k}|I)}$$\n",
    "\n",
    "Now the probability $p(d_k|H_1, I)$ is $\\frac{1}{N-1}$ since the door chosen by B has to remain close and in the same way only one door among  $N-1$ has to still be closed. \n",
    "We can also write using the law of total probability:\n",
    "\n",
    "$$p(d_{k}|I) = \\sum_{i=1}^{N}{p(d_{k}|H_{i}, I)p(H_{i}|I)}$$\n",
    "\n",
    "But then if $i \\neq 1$:\n",
    "\n",
    "$$ p(d_{k}|H_{i}, I) = \\bigg \\{\n",
    "\\begin{array}{r}\n",
    "1&   \\text{if $k = i$} \\\\\n",
    "0 &  \\text{otherwise}\n",
    "\\end{array}$$\n",
    "\n",
    "So:\n",
    "\n",
    "$$p(d_{k}| I) = p(d_{k}|H_1, I)p(H_1|I) + p(d_{k}|H_{k}, I)p(H_k|I) = \\frac{1}{(N-1)N} + \\frac{1}{N} = \\frac{1}{N-1} $$\n",
    "\n",
    "And:\n",
    "\n",
    "$$p(H_{1}|d_{k}, I) = \\frac{\\frac{1}{N-1}\\frac{1}{N}}{\\frac{1}{N-1}} = \\frac{1}{N}$$\n",
    "\n",
    "And since the total probability always sum up to 1 the probability for B to win if they always change door is $\\frac{N-1}{N}$. So by switching the door you increase your winning probability by a factor $N-1$!\n"
   ]
  },
  {
   "cell_type": "code",
   "execution_count": null,
   "metadata": {},
   "outputs": [],
   "source": []
  }
 ],
 "metadata": {
  "kernelspec": {
   "display_name": "Python 3",
   "language": "python",
   "name": "python3"
  },
  "language_info": {
   "codemirror_mode": {
    "name": "ipython",
    "version": 3
   },
   "file_extension": ".py",
   "mimetype": "text/x-python",
   "name": "python",
   "nbconvert_exporter": "python",
   "pygments_lexer": "ipython3",
   "version": "3.8.3"
  }
 },
 "nbformat": 4,
 "nbformat_minor": 4
}
