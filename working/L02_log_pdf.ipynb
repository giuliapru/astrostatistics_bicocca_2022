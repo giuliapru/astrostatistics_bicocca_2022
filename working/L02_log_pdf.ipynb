{
 "cells": [
  {
   "cell_type": "markdown",
   "metadata": {},
   "source": [
    "# Pdf of the logarithm of a uniform distribution"
   ]
  },
  {
   "cell_type": "markdown",
   "metadata": {},
   "source": [
    "$x$ is a sample with a unifrom distribution between 0.1 and 10.\n",
    "\n",
    "$y$ is the base 10 logarithm of $x$: $y = log_{10}{x}$\n",
    "\n",
    "**What is the $p(y)$?**\n",
    "\n",
    "From the law of pdf transformation:\n",
    "\n",
    "$$p(y) = |\\frac{dy}{dx}|^{-1}p(x)$$\n",
    "\n",
    "In this case:\n",
    "- $p(x) = \\frac{1}{10 - 0.1}$\n",
    "- $\\frac{dy}{dx} = \\frac{1}{x \\ln{10}}$\n",
    "\n",
    "Therefore:\n",
    "$$p(y) = \\frac{x \\ln{10}}{10 - 0.1}$$\n",
    "\n",
    "$$p(y) = \\frac{10^{y} \\ln{10}}{10 - 0.1}$$"
   ]
  },
  {
   "cell_type": "code",
   "execution_count": 2,
   "metadata": {},
   "outputs": [],
   "source": [
    "import numpy as np\n",
    "import matplotlib.pyplot as plt\n",
    "\n",
    "N = 10000    #length of the sample\n",
    "\n",
    "a = 0.1      #extremes of the uniform distribution\n",
    "b = 10\n",
    "\n",
    "x = np.random.uniform(a, b, size=N) #extraction of x\n",
    "\n",
    "y = np.log10(x)  #y sample"
   ]
  },
  {
   "cell_type": "code",
   "execution_count": 42,
   "metadata": {},
   "outputs": [
    {
     "data": {
      "text/plain": [
       "Text(0, 0.5, '$p(y)$')"
      ]
     },
     "execution_count": 42,
     "metadata": {},
     "output_type": "execute_result"
    },
    {
     "data": {
      "image/png": "[encoded data removed]",
      "text/plain": [
       "<Figure size 864x360 with 2 Axes>"
      ]
     },
     "metadata": {
      "needs_background": "light"
     },
     "output_type": "display_data"
    }
   ],
   "source": [
    "fig, ax = plt.subplots(1,2, figsize=(12,5))\n",
    "\n",
    "xaxis = np.linspace(a,b)\n",
    "\n",
    "uniform_x = 1/(b-a)    #uniform distribution    \n",
    "ax[0].hist(x, density = True, bins=20, color='dodgerblue', edgecolor='midnightblue', histtype='stepfilled', lw=1.5)\n",
    "ax[0].plot(xaxis, uniform_x+0*xaxis, c='tab:orange', lw=2, label='$p(x) = \\\\frac{1}{%.1f - %.1f}$' %(b, a))\n",
    "ax[0]. set_title(\"pdf(x)\", fontsize=15)\n",
    "ax[0].legend(fontsize=12)\n",
    "ax[0].set_xlabel('$x$')\n",
    "ax[0].set_ylabel('$p(x)$')\n",
    "\n",
    "xaxis1 = np.linspace(np.min(y), np.max(y), 100)\n",
    "log_dist = 10**(xaxis1)*np.log(10)/(b-a)     #pdf(y)\n",
    "ax[1].hist(y, density = True, bins=20, color='dodgerblue', edgecolor='midnightblue', histtype='stepfilled', lw=1.5)\n",
    "ax[1].plot(xaxis1, log_dist, c='tab:orange', lw=2, label = '$p(y)= \\\\frac{10^{y} \\ \\ln{10}}{%.1f - %.1f}$' %(b, a))\n",
    "ax[1].set_title(\"pdf(y)\", fontsize=15)\n",
    "ax[1].legend(fontsize=13)\n",
    "ax[1].set_xlabel('$y$')\n",
    "ax[1].set_ylabel('$p(y)$')"
   ]
  },
  {
   "cell_type": "code",
   "execution_count": 49,
   "metadata": {},
   "outputs": [
    {
     "name": "stdout",
     "output_type": "stream",
     "text": [
      "The mean of y is: 0.5813 \n",
      "The value of log(mean(x)) is: 0.6997\n",
      "\n",
      "The median of y is: 0.6996 \n",
      "The value of log(median(x)) is: 0.6996\n"
     ]
    }
   ],
   "source": [
    "#mean estimation\n",
    "mean_y = np.mean(y)\n",
    "log_mean_x = np.log10(np.mean(x))\n",
    "print('The mean of y is: %.4f \\nThe value of log(mean(x)) is: %.4f' %(mean_y, log_mean_x))\n",
    "\n",
    "#median estimation\n",
    "median_y = np.median(y)\n",
    "log_median_x = np.log10(np.median(x))\n",
    "print('\\nThe median of y is: %.4f \\nThe value of log(median(x)) is: %.4f' %(median_y, log_median_x))"
   ]
  },
  {
   "cell_type": "markdown",
   "metadata": {},
   "source": [
    "The median value represents a more robust estimator!"
   ]
  },
  {
   "cell_type": "code",
   "execution_count": null,
   "metadata": {},
   "outputs": [],
   "source": []
  }
 ],
 "metadata": {
  "kernelspec": {
   "display_name": "Python 3",
   "language": "python",
   "name": "python3"
  },
  "language_info": {
   "codemirror_mode": {
    "name": "ipython",
    "version": 3
   },
   "file_extension": ".py",
   "mimetype": "text/x-python",
   "name": "python",
   "nbconvert_exporter": "python",
   "pygments_lexer": "ipython3",
   "version": "3.8.3"
  }
 },
 "nbformat": 4,
 "nbformat_minor": 4
}
