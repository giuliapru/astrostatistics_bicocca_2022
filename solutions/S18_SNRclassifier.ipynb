{
 "cells": [
  {
   "cell_type": "code",
   "execution_count": 1,
   "id": "03506fcd",
   "metadata": {},
   "outputs": [],
   "source": [
    "import numpy as np\n",
    "import pylab as plt\n",
    "import h5py\n",
    "\n",
    "plt.rcParams['figure.figsize'] = [8, 8]\n",
    "plt.rcParams['font.size'] = 15\n",
    "\n",
    "\n",
    "import sklearn.model_selection\n",
    "from sklearn.tree import DecisionTreeClassifier\n",
    "from tqdm.notebook import tqdm\n",
    "from sklearn.ensemble import RandomForestClassifier"
   ]
  },
  {
   "cell_type": "code",
   "execution_count": 2,
   "id": "063a2515",
   "metadata": {},
   "outputs": [],
   "source": [
    "f = h5py.File('sample_2e7_design_precessing_higherordermodes_3detectors.h5')"
   ]
  },
  {
   "cell_type": "code",
   "execution_count": 3,
   "id": "02cc38a4",
   "metadata": {},
   "outputs": [
    {
     "data": {
      "text/plain": [
       "<KeysViewHDF5 ['chi1x', 'chi1y', 'chi1z', 'chi2x', 'chi2y', 'chi2z', 'dec', 'det', 'iota', 'mtot', 'psi', 'q', 'ra', 'snr', 'z']>"
      ]
     },
     "execution_count": 3,
     "metadata": {},
     "output_type": "execute_result"
    }
   ],
   "source": [
    "f.keys()"
   ]
  },
  {
   "cell_type": "markdown",
   "id": "e269407b",
   "metadata": {},
   "source": [
    "Donwsample the data for debugging purposes"
   ]
  },
  {
   "cell_type": "code",
   "execution_count": 4,
   "id": "9eb04139",
   "metadata": {},
   "outputs": [],
   "source": [
    "howmany=int(1e5)"
   ]
  },
  {
   "cell_type": "code",
   "execution_count": 5,
   "id": "3297f227",
   "metadata": {},
   "outputs": [],
   "source": [
    "X=[]\n",
    "for l in ['chi1x', 'chi1y', 'chi1z', 'chi2x', 'chi2y', 'chi2z', 'dec', 'iota', 'mtot', 'psi', 'q', 'ra','z']:\n",
    "#for l in ['mtot', 'q','z']:\n",
    "    X.append(f[l][:howmany])\n",
    "X = np.array(X).T\n",
    "\n",
    "y = np.array(f['det'][:howmany])\n"
   ]
  },
  {
   "cell_type": "code",
   "execution_count": 6,
   "id": "7c3ec750",
   "metadata": {},
   "outputs": [
    {
     "data": {
      "text/plain": [
       "0.14382"
      ]
     },
     "execution_count": 6,
     "metadata": {},
     "output_type": "execute_result"
    }
   ],
   "source": [
    "np.sum(y)/len(y)"
   ]
  },
  {
   "cell_type": "code",
   "execution_count": 7,
   "id": "2e0f5009",
   "metadata": {},
   "outputs": [],
   "source": [
    "X_train, X_test, y_train, y_test = sklearn.model_selection.train_test_split(X, y, test_size=0.3, random_state=42)"
   ]
  },
  {
   "cell_type": "code",
   "execution_count": 8,
   "id": "4d0298bb",
   "metadata": {},
   "outputs": [
    {
     "data": {
      "text/plain": [
       "DecisionTreeClassifier(criterion='entropy', max_depth=10, random_state=0)"
      ]
     },
     "execution_count": 8,
     "metadata": {},
     "output_type": "execute_result"
    }
   ],
   "source": [
    "clf = DecisionTreeClassifier(random_state=0, max_depth=10,criterion='entropy')\n",
    "clf.fit(X_train, y_train)"
   ]
  },
  {
   "cell_type": "code",
   "execution_count": 9,
   "id": "c24bced0",
   "metadata": {},
   "outputs": [],
   "source": [
    "y_pred = clf.predict(X_test)"
   ]
  },
  {
   "cell_type": "code",
   "execution_count": 10,
   "id": "2dfa4700",
   "metadata": {},
   "outputs": [
    {
     "data": {
      "text/plain": [
       "array([[25033,   645],\n",
       "       [  673,  3649]])"
      ]
     },
     "execution_count": 10,
     "metadata": {},
     "output_type": "execute_result"
    }
   ],
   "source": [
    "C = sklearn.metrics.confusion_matrix(y_test, y_pred)\n",
    "C"
   ]
  },
  {
   "cell_type": "code",
   "execution_count": 11,
   "id": "d2c2338a",
   "metadata": {},
   "outputs": [
    {
     "data": {
      "text/plain": [
       "0.9560666666666666"
      ]
     },
     "execution_count": 11,
     "metadata": {},
     "output_type": "execute_result"
    }
   ],
   "source": [
    "np.sum(C.diagonal())/len(y_test)"
   ]
  },
  {
   "cell_type": "code",
   "execution_count": 12,
   "id": "26e63ebb",
   "metadata": {},
   "outputs": [
    {
     "name": "stdout",
     "output_type": "stream",
     "text": [
      "673\n"
     ]
    }
   ],
   "source": [
    "tn, fp, fn, tp = C.ravel()\n",
    "print(fn)\n"
   ]
  },
  {
   "cell_type": "code",
   "execution_count": 14,
   "id": "308dce7a",
   "metadata": {},
   "outputs": [
    {
     "data": {
      "text/plain": [
       "4294"
      ]
     },
     "execution_count": 14,
     "metadata": {},
     "output_type": "execute_result"
    }
   ],
   "source": [
    "np.sum(y_pred)"
   ]
  },
  {
   "cell_type": "code",
   "execution_count": 13,
   "id": "2b78cf4e",
   "metadata": {},
   "outputs": [],
   "source": [
    "y_prob = clf.predict_proba(X_test)[:,1]\n",
    "fpr, tpr, thresholds = sklearn.metrics.roc_curve(y_test, y_prob)"
   ]
  },
  {
   "cell_type": "code",
   "execution_count": 14,
   "id": "7f83ef2d",
   "metadata": {},
   "outputs": [
    {
     "data": {
      "text/plain": [
       "[<matplotlib.lines.Line2D at 0x12f5dbd60>]"
      ]
     },
     "execution_count": 14,
     "metadata": {},
     "output_type": "execute_result"
    },
    {
     "data": {
      "image/png": "[encoded data removed]",
      "text/plain": [
       "<Figure size 576x576 with 1 Axes>"
      ]
     },
     "metadata": {
      "needs_background": "light"
     },
     "output_type": "display_data"
    }
   ],
   "source": [
    "plt.plot(fpr, tpr)"
   ]
  },
  {
   "cell_type": "code",
   "execution_count": 15,
   "id": "fce9edff",
   "metadata": {},
   "outputs": [
    {
     "data": {
      "application/vnd.jupyter.widget-view+json": {
       "model_id": "4a3c81ac968647879c0ba8a612f374c7",
       "version_major": 2,
       "version_minor": 0
      },
      "text/plain": [
       "  0%|          | 0/19 [00:00<?, ?it/s]"
      ]
     },
     "metadata": {},
     "output_type": "display_data"
    }
   ],
   "source": [
    "completeness_test = []\n",
    "contamination_test = []\n",
    "completeness_train = []\n",
    "contamination_train = []\n",
    "\n",
    "md_vals = np.arange(1,20)\n",
    "for md in tqdm(md_vals):\n",
    "    clf = DecisionTreeClassifier(random_state=0, max_depth=md,criterion='entropy')\n",
    "    clf.fit(X_train, y_train)\n",
    "\n",
    "    y_pred = clf.predict(X_test)\n",
    "    C = sklearn.metrics.confusion_matrix(y_test, y_pred)\n",
    "    tn, fp, fn, tp = C.ravel()\n",
    "    completeness_test.append(tp/(tp+fn))\n",
    "    contamination_test.append(fp/(tp+fp))\n",
    "\n",
    "    y_pred = clf.predict(X_train)\n",
    "    C = sklearn.metrics.confusion_matrix(y_train, y_pred)\n",
    "    tn, fp, fn, tp = C.ravel()\n",
    "    completeness_train.append(tp/(tp+fn))\n",
    "    contamination_train.append(fp/(tp+fp))\n",
    "    "
   ]
  },
  {
   "cell_type": "code",
   "execution_count": null,
   "id": "ceba7e09",
   "metadata": {},
   "outputs": [],
   "source": []
  },
  {
   "cell_type": "code",
   "execution_count": 17,
   "id": "e5903019",
   "metadata": {},
   "outputs": [
    {
     "data": {
      "text/plain": [
       "<matplotlib.legend.Legend at 0x12f78b730>"
      ]
     },
     "execution_count": 17,
     "metadata": {},
     "output_type": "execute_result"
    },
    {
     "data": {
      "image/png": "[encoded data removed]",
      "text/plain": [
       "<Figure size 576x576 with 1 Axes>"
      ]
     },
     "metadata": {
      "needs_background": "light"
     },
     "output_type": "display_data"
    }
   ],
   "source": [
    "plt.plot(md_vals,completeness_test,label='completeness test',c='C0')\n",
    "plt.plot(md_vals,completeness_train,label='completeness train',c='C0',ls='dotted')\n",
    "\n",
    "plt.plot(md_vals,contamination_test,label='contamination test',c='C1')\n",
    "plt.plot(md_vals,contamination_train,label='contamination train',c='C1',ls='dotted')\n",
    "plt.legend()\n"
   ]
  },
  {
   "cell_type": "markdown",
   "id": "967b466e",
   "metadata": {},
   "source": [
    "From the plot above, I would say the best tree has at most 7 refinement levels."
   ]
  },
  {
   "cell_type": "code",
   "execution_count": 18,
   "id": "24853c01",
   "metadata": {},
   "outputs": [
    {
     "data": {
      "text/plain": [
       "(array([0.76515502]), array([0.11860341]))"
      ]
     },
     "execution_count": 18,
     "metadata": {},
     "output_type": "execute_result"
    }
   ],
   "source": [
    "np.array(completeness_test)[md_vals==7] , np.array(contamination_test)[md_vals==7]"
   ]
  },
  {
   "cell_type": "markdown",
   "id": "2b895f71",
   "metadata": {},
   "source": [
    "Let's see if I can improve things with a random forest\n"
   ]
  },
  {
   "cell_type": "code",
   "execution_count": 19,
   "id": "b1fa0c88",
   "metadata": {},
   "outputs": [
    {
     "name": "stdout",
     "output_type": "stream",
     "text": [
      "completeness test 0.7697825080981028\n",
      "contamination test 0.12077167019027484\n",
      "completeness train 0.7795228628230616\n",
      "contamination train 0.11007716749886519\n"
     ]
    }
   ],
   "source": [
    "\n",
    "clf = RandomForestClassifier(n_estimators=100, max_depth=7)\n",
    "\n",
    "clf.fit(X_train, y_train)\n",
    "\n",
    "y_pred = clf.predict(X_test)\n",
    "C = sklearn.metrics.confusion_matrix(y_test, y_pred)\n",
    "tn, fp, fn, tp = C.ravel()\n",
    "print(\"completeness test\", tp/(tp+fn))\n",
    "print(\"contamination test\", fp/(tp+fp))\n",
    "\n",
    "y_pred = clf.predict(X_train)\n",
    "C = sklearn.metrics.confusion_matrix(y_train, y_pred)\n",
    "tn, fp, fn, tp = C.ravel()\n",
    "print(\"completeness train\", tp/(tp+fn))\n",
    "print(\"contamination train\", fp/(tp+fp))"
   ]
  },
  {
   "cell_type": "markdown",
   "id": "48b4b475",
   "metadata": {},
   "source": [
    "Not much but I bumped it up by 1%. The raw fraction of correct sources is"
   ]
  },
  {
   "cell_type": "code",
   "execution_count": 20,
   "id": "8561e39d",
   "metadata": {},
   "outputs": [
    {
     "data": {
      "text/plain": [
       "0.9516"
      ]
     },
     "execution_count": 20,
     "metadata": {},
     "output_type": "execute_result"
    }
   ],
   "source": [
    "y_pred = clf.predict(X_test)\n",
    "C = sklearn.metrics.confusion_matrix(y_test, y_pred)\n",
    "np.sum(C.diagonal())/len(y_test)"
   ]
  },
  {
   "cell_type": "code",
   "execution_count": null,
   "id": "9cd42d41",
   "metadata": {},
   "outputs": [],
   "source": []
  }
 ],
 "metadata": {
  "kernelspec": {
   "display_name": "Python 3 (ipykernel)",
   "language": "python",
   "name": "python3"
  },
  "language_info": {
   "codemirror_mode": {
    "name": "ipython",
    "version": 3
   },
   "file_extension": ".py",
   "mimetype": "text/x-python",
   "name": "python",
   "nbconvert_exporter": "python",
   "pygments_lexer": "ipython3",
   "version": "3.8.12"
  }
 },
 "nbformat": 4,
 "nbformat_minor": 5
}
