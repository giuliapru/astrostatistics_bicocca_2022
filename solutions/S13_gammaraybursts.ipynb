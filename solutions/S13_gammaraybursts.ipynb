{
 "cells": [
  {
   "cell_type": "markdown",
   "id": "7b3a6093",
   "metadata": {},
   "source": [
    "There isn't a unique solution to this excercise, which was indeed designed to be very open ended. Here I dediced to focus solely on the duration of the GRB and see what I could do without any other information."
   ]
  },
  {
   "cell_type": "markdown",
   "id": "91aff2ad",
   "metadata": {},
   "source": [
    "# Long and short GRBs"
   ]
  },
  {
   "cell_type": "code",
   "execution_count": 1,
   "id": "b834f303",
   "metadata": {},
   "outputs": [],
   "source": [
    "import requests \n",
    "import numpy as np\n",
    "import pylab as plt\n",
    "\n",
    "from sklearn.neighbors import KernelDensity\n",
    "from sklearn.cluster import KMeans\n",
    "from sklearn.mixture import GaussianMixture\n",
    "from sklearn.metrics import confusion_matrix\n",
    "\n",
    "\n",
    "import matplotlib.pyplot as plt\n",
    "plt.rcParams['figure.figsize'] = [10, 5]"
   ]
  },
  {
   "cell_type": "code",
   "execution_count": 2,
   "id": "459de319",
   "metadata": {},
   "outputs": [],
   "source": [
    "# Download file\n",
    "r = requests.get('https://user-web.icecube.wisc.edu/~grbweb_public/Summary_table.txt')\n",
    "with open(\"Summary_table.txt\", 'wb') as f:\n",
    "    f.write(r.content)\n"
   ]
  },
  {
   "cell_type": "code",
   "execution_count": 3,
   "id": "8bfb9917",
   "metadata": {},
   "outputs": [
    {
     "name": "stdout",
     "output_type": "stream",
     "text": [
      "['GRB_name' 'GRB_name_Fermi' 'T0' 'ra' 'decl' 'pos_error' 'T90'\n",
      " 'T90_error' 'T90_start' 'fluence' 'fluence_error' 'redshift' \"'T100'\"\n",
      " 'GBM_located' 'mjd_(T0)']\n"
     ]
    },
    {
     "data": {
      "text/plain": [
       "(15,)"
      ]
     },
     "execution_count": 3,
     "metadata": {},
     "output_type": "execute_result"
    }
   ],
   "source": [
    "# Read headers\n",
    "with open(\"Summary_table.txt\",'r') as f:\n",
    "    names= np.array([n.strip().replace(\" \",\"_\") for n in f.readlines()[1].replace(\"#\",\"\").replace(\"\\n\",\"\").lstrip().split('    ') if n.strip()!=''])\n",
    "\n",
    "print(names)\n",
    "names.shape"
   ]
  },
  {
   "cell_type": "code",
   "execution_count": 4,
   "id": "c6ccc857",
   "metadata": {},
   "outputs": [
    {
     "data": {
      "text/plain": [
       "(15, 7819)"
      ]
     },
     "execution_count": 4,
     "metadata": {},
     "output_type": "execute_result"
    }
   ],
   "source": [
    "# Read content\n",
    "data = np.loadtxt(\"Summary_table.txt\", dtype='str',unpack='True')\n",
    "data.shape"
   ]
  },
  {
   "cell_type": "code",
   "execution_count": 5,
   "id": "e1f94b07",
   "metadata": {},
   "outputs": [],
   "source": [
    "#Pack into python dictionary and convert selected fields to float\n",
    "grb=dict(zip(names,data))\n",
    "\n",
    "for lab in ['T90',\"redshift\",\"T90_error\"]:\n",
    "    grb[lab] = np.array(grb[lab],dtype='float')"
   ]
  },
  {
   "cell_type": "code",
   "execution_count": 6,
   "id": "01d7631e",
   "metadata": {},
   "outputs": [
    {
     "data": {
      "image/png": "[encoded data removed]",
      "text/plain": [
       "<Figure size 720x360 with 1 Axes>"
      ]
     },
     "metadata": {
      "needs_background": "light"
     },
     "output_type": "display_data"
    }
   ],
   "source": [
    "plt.hist(grb['T90'],bins= np.linspace(0,100,100));"
   ]
  },
  {
   "cell_type": "markdown",
   "id": "07992b33",
   "metadata": {},
   "source": [
    "That's useless. Let's plot the log. "
   ]
  },
  {
   "cell_type": "code",
   "execution_count": 7,
   "id": "2eb8add5",
   "metadata": {},
   "outputs": [
    {
     "data": {
      "image/png": "[encoded data removed]",
      "text/plain": [
       "<Figure size 720x360 with 1 Axes>"
      ]
     },
     "metadata": {
      "needs_background": "light"
     },
     "output_type": "display_data"
    }
   ],
   "source": [
    "plt.hist(grb['T90'],bins= np.logspace(-2,3,100));\n",
    "plt.semilogx();"
   ]
  },
  {
   "cell_type": "markdown",
   "id": "77992a6d",
   "metadata": {},
   "source": [
    "Ok I like it. I know some physics and remember that people talk about long and short gamma-ray bursts all the time. Are there two modes there? Mmmmh, probably yes, but I don't trust those bins on the left... Let's try another density estimator just make sure things are ok"
   ]
  },
  {
   "cell_type": "markdown",
   "id": "320fa06c",
   "metadata": {},
   "source": [
    "Actually, need some data cleaning first"
   ]
  },
  {
   "cell_type": "code",
   "execution_count": 8,
   "id": "c66d6d7b",
   "metadata": {},
   "outputs": [
    {
     "name": "stderr",
     "output_type": "stream",
     "text": [
      "/var/folders/zv/8t9z941x3q1gmp080mdw8k_h0000gn/T/ipykernel_9052/1245724041.py:2: RuntimeWarning: invalid value encountered in log10\n",
      "  lT90 = np.log10(grb['T90'])\n"
     ]
    }
   ],
   "source": [
    "# I want to fit the log of T90...\n",
    "lT90 = np.log10(grb['T90'])\n",
    "# Some cleaning...\n",
    "lT90=lT90[~np.isnan(lT90)] \n",
    "# Reshape for scikit-learn\n",
    "skT90 = lT90[:,np.newaxis]"
   ]
  },
  {
   "cell_type": "code",
   "execution_count": 9,
   "id": "7ec0e023",
   "metadata": {},
   "outputs": [],
   "source": [
    "# Fit a KDE\n",
    "kde = KernelDensity(kernel='gaussian', bandwidth=0.08).fit(skT90) #fit the model to the data"
   ]
  },
  {
   "cell_type": "code",
   "execution_count": 10,
   "id": "a76493e6",
   "metadata": {},
   "outputs": [],
   "source": [
    "xgrid=np.logspace(-3,3,100)\n",
    "# Rememember score_samples is the log-likelohood. Neep an exp in front\n",
    "ygrid = np.exp(kde.score_samples(np.log10(xgrid)[:,np.newaxis]))"
   ]
  },
  {
   "cell_type": "code",
   "execution_count": 11,
   "id": "c9bac024",
   "metadata": {},
   "outputs": [
    {
     "data": {
      "image/png": "[encoded data removed]",
      "text/plain": [
       "<Figure size 720x360 with 1 Axes>"
      ]
     },
     "metadata": {
      "needs_background": "light"
     },
     "output_type": "display_data"
    }
   ],
   "source": [
    "plt.plot(xgrid,ygrid)\n",
    "plt.semilogx();"
   ]
  },
  {
   "cell_type": "markdown",
   "id": "2c7007d8",
   "metadata": {},
   "source": [
    "Yes those are definitely two modes. I haven't optimized the bandwith here. I could do it but I'm confident there are only two modes now.\n",
    "\n",
    "Let's try to separate them in an unsupervised fashion"
   ]
  },
  {
   "cell_type": "code",
   "execution_count": 12,
   "id": "37d44ce5",
   "metadata": {},
   "outputs": [
    {
     "data": {
      "text/plain": [
       "KMeans(n_clusters=2)"
      ]
     },
     "execution_count": 12,
     "metadata": {},
     "output_type": "execute_result"
    }
   ],
   "source": [
    "clf = KMeans(n_clusters=2) #Try 2 clusters to start with\n",
    "clf.fit(skT90)\n"
   ]
  },
  {
   "cell_type": "markdown",
   "id": "b761f394",
   "metadata": {},
   "source": [
    "Smooth. Let's see where my clusters are centered"
   ]
  },
  {
   "cell_type": "code",
   "execution_count": 13,
   "id": "cad2e741",
   "metadata": {},
   "outputs": [
    {
     "data": {
      "text/plain": [
       "array([34.03469206,  0.92457658])"
      ]
     },
     "execution_count": 13,
     "metadata": {},
     "output_type": "execute_result"
    }
   ],
   "source": [
    "centers = clf.cluster_centers_ #location of the clusters\n",
    "centers = 10**np.squeeze(centers)\n",
    "centers #in seconds"
   ]
  },
  {
   "cell_type": "markdown",
   "id": "cf43966e",
   "metadata": {},
   "source": [
    "And also let's label each point as belonging to the two classes\n",
    "\n"
   ]
  },
  {
   "cell_type": "code",
   "execution_count": 14,
   "id": "02a8a464",
   "metadata": {},
   "outputs": [],
   "source": [
    "labels = clf.predict(skT90) #labels for each of the points"
   ]
  },
  {
   "cell_type": "markdown",
   "id": "cc52756d",
   "metadata": {},
   "source": [
    "Make sure that the clusters are ordered. If they are not, swap the labels"
   ]
  },
  {
   "cell_type": "code",
   "execution_count": 15,
   "id": "d549a101",
   "metadata": {},
   "outputs": [],
   "source": [
    "if centers[0]>centers[1]:\n",
    "    centers=centers[::-1] # Reverse array\n",
    "    labels = np.array(~np.array(labels,dtype='bool'),dtype='int') # Swap 0 <--> 1"
   ]
  },
  {
   "cell_type": "code",
   "execution_count": 17,
   "id": "fe5d24bc",
   "metadata": {},
   "outputs": [
    {
     "data": {
      "text/plain": [
       "(array([ 0.92457658, 34.03469206]), array([1, 0, 0, ..., 0, 1, 0]))"
      ]
     },
     "execution_count": 17,
     "metadata": {},
     "output_type": "execute_result"
    }
   ],
   "source": [
    "centers, labels"
   ]
  },
  {
   "cell_type": "markdown",
   "id": "478d960a",
   "metadata": {},
   "source": [
    "It's Kmeans in 1D, so a cluster finishes when the other stars. The boundary is: "
   ]
  },
  {
   "cell_type": "code",
   "execution_count": 18,
   "id": "12212a74",
   "metadata": {},
   "outputs": [
    {
     "name": "stdout",
     "output_type": "stream",
     "text": [
      "[0.74818803] [0.75066265] 5.615977207930957\n"
     ]
    }
   ],
   "source": [
    "edge = 10**( np.mean( [max(skT90[labels==0]), min(skT90[labels==1]) ]))\n",
    "\n",
    "    \n",
    "print(max(skT90[labels==0]), min(skT90[labels==1]), edge)\n",
    "\n"
   ]
  },
  {
   "cell_type": "markdown",
   "id": "3d4a6437",
   "metadata": {},
   "source": [
    "Ok let's plot the center of the two clusters and the edge\n"
   ]
  },
  {
   "cell_type": "code",
   "execution_count": 19,
   "id": "c13e5350",
   "metadata": {},
   "outputs": [
    {
     "data": {
      "text/plain": [
       "<matplotlib.lines.Line2D at 0x121ceaa60>"
      ]
     },
     "execution_count": 19,
     "metadata": {},
     "output_type": "execute_result"
    },
    {
     "data": {
      "image/png": "[encoded data removed]",
      "text/plain": [
       "<Figure size 720x360 with 1 Axes>"
      ]
     },
     "metadata": {
      "needs_background": "light"
     },
     "output_type": "display_data"
    }
   ],
   "source": [
    "\n",
    "plt.plot(xgrid,ygrid)\n",
    "plt.semilogx()\n",
    "for v in centers:\n",
    "    plt.axvline(v, c='red',ls='dotted')\n",
    "plt.axvline(edge,c='red',ls='dashed')\n",
    "    "
   ]
  },
  {
   "cell_type": "markdown",
   "id": "bb88509e",
   "metadata": {},
   "source": [
    "To be honest, those blobs seem very Gaussian in log. Let's have a look at a Gaussian Mixture Model as well"
   ]
  },
  {
   "cell_type": "code",
   "execution_count": 20,
   "id": "19932e51",
   "metadata": {},
   "outputs": [],
   "source": [
    "gmm = GaussianMixture(2).fit(skT90)"
   ]
  },
  {
   "cell_type": "markdown",
   "id": "923e4e2d",
   "metadata": {},
   "source": [
    "All smooth. The gaussians are centered at"
   ]
  },
  {
   "cell_type": "code",
   "execution_count": 21,
   "id": "789ce7c5",
   "metadata": {},
   "outputs": [],
   "source": [
    "means = 10**np.squeeze(gmm.means_)"
   ]
  },
  {
   "cell_type": "code",
   "execution_count": 22,
   "id": "d659edfe",
   "metadata": {},
   "outputs": [
    {
     "data": {
      "text/plain": [
       "array([31.47684533,  0.98454353])"
      ]
     },
     "execution_count": 22,
     "metadata": {},
     "output_type": "execute_result"
    }
   ],
   "source": [
    "means"
   ]
  },
  {
   "cell_type": "markdown",
   "id": "70d62e3e",
   "metadata": {},
   "source": [
    "The pdf of each mode is"
   ]
  },
  {
   "cell_type": "code",
   "execution_count": 23,
   "id": "e856e13e",
   "metadata": {},
   "outputs": [],
   "source": [
    "responsibilities = gmm.predict_proba(skT90)"
   ]
  },
  {
   "cell_type": "markdown",
   "id": "a29b6137",
   "metadata": {},
   "source": [
    "Again make sure the modes are sorted:"
   ]
  },
  {
   "cell_type": "code",
   "execution_count": 24,
   "id": "94bf9d04",
   "metadata": {},
   "outputs": [],
   "source": [
    "if means[0]>means[1]:\n",
    "    means=means[::-1]\n",
    "    responsibilities= responsibilities[:,::-1]"
   ]
  },
  {
   "cell_type": "code",
   "execution_count": 25,
   "id": "40d30049",
   "metadata": {},
   "outputs": [
    {
     "data": {
      "text/plain": [
       "(array([ 0.98454353, 31.47684533]),\n",
       " array([[2.35552221e-02, 9.76444778e-01],\n",
       "        [9.97545384e-01, 2.45461570e-03],\n",
       "        [9.99962575e-01, 3.74246758e-05],\n",
       "        ...,\n",
       "        [6.49304287e-01, 3.50695713e-01],\n",
       "        [1.38525060e-03, 9.98614749e-01],\n",
       "        [3.46331000e-01, 6.53669000e-01]]))"
      ]
     },
     "execution_count": 25,
     "metadata": {},
     "output_type": "execute_result"
    }
   ],
   "source": [
    "means,responsibilities"
   ]
  },
  {
   "cell_type": "code",
   "execution_count": 26,
   "id": "ec0297c9",
   "metadata": {},
   "outputs": [],
   "source": [
    "ygmm = np.exp(gmm.score_samples( np.log10(xgrid)[:,np.newaxis] ))"
   ]
  },
  {
   "cell_type": "code",
   "execution_count": 27,
   "id": "4bd1b4f8",
   "metadata": {},
   "outputs": [
    {
     "data": {
      "image/png": "[encoded data removed]",
      "text/plain": [
       "<Figure size 720x360 with 1 Axes>"
      ]
     },
     "metadata": {
      "needs_background": "light"
     },
     "output_type": "display_data"
    }
   ],
   "source": [
    "plt.plot(xgrid,ygmm)\n",
    "\n",
    "for v in means:\n",
    "    plt.axvline(v, c='red',ls='dotted')\n",
    "    \n",
    "plt.semilogx();"
   ]
  },
  {
   "cell_type": "markdown",
   "id": "bc2a62a7",
   "metadata": {},
   "source": [
    "Which is a result that is very compatible with what I had before. Two methods giving the same results. Let's go! That's science!"
   ]
  },
  {
   "cell_type": "markdown",
   "id": "9a76230d",
   "metadata": {},
   "source": [
    "Let's check the numbers for the cluster centers with the two approaches"
   ]
  },
  {
   "cell_type": "code",
   "execution_count": 28,
   "id": "174878ed",
   "metadata": {},
   "outputs": [
    {
     "name": "stdout",
     "output_type": "stream",
     "text": [
      "Short GRBs :  0.9245765792791928 0.9845435264284014 0.06282155530176295\n",
      "Long GRBs :  34.0346920636912 31.476845329581607 0.07808843559126284\n"
     ]
    }
   ],
   "source": [
    "for l,c,m in zip(['Short GRBs','Long GRBs'],np.sort(centers),np.sort(means)):\n",
    "    print(l,\": \", c,m, np.abs(c-m)/np.mean([c,m]) )"
   ]
  },
  {
   "cell_type": "markdown",
   "id": "541b1149",
   "metadata": {},
   "source": [
    "Good enough I'd say. For each datapoint now find the preferred gaussian mode:"
   ]
  },
  {
   "cell_type": "code",
   "execution_count": 29,
   "id": "9cf0ea78",
   "metadata": {},
   "outputs": [],
   "source": [
    "gmmoutcome = np.array(responsibilities[:,0]<responsibilities[:,1],dtype='int')"
   ]
  },
  {
   "cell_type": "code",
   "execution_count": 30,
   "id": "18f7fa28",
   "metadata": {},
   "outputs": [
    {
     "data": {
      "text/plain": [
       "array([1, 0, 0, ..., 0, 1, 1])"
      ]
     },
     "execution_count": 30,
     "metadata": {},
     "output_type": "execute_result"
    }
   ],
   "source": [
    "gmmoutcome"
   ]
  },
  {
   "cell_type": "code",
   "execution_count": 31,
   "id": "0ea22d08",
   "metadata": {},
   "outputs": [
    {
     "data": {
      "text/plain": [
       "array([1, 0, 0, ..., 0, 1, 0])"
      ]
     },
     "execution_count": 31,
     "metadata": {},
     "output_type": "execute_result"
    }
   ],
   "source": [
    "labels"
   ]
  },
  {
   "cell_type": "markdown",
   "id": "bed96ba4",
   "metadata": {},
   "source": [
    "The number of observations that the GMM says are in row $i$ predicted by the clustering algorithm to be in column-$j$\n"
   ]
  },
  {
   "cell_type": "code",
   "execution_count": 32,
   "id": "b8f3f4b6",
   "metadata": {},
   "outputs": [
    {
     "data": {
      "text/plain": [
       "array([[1522,    0],\n",
       "       [ 237, 5073]])"
      ]
     },
     "execution_count": 32,
     "metadata": {},
     "output_type": "execute_result"
    }
   ],
   "source": [
    "confusion_matrix(gmmoutcome,labels)"
   ]
  },
  {
   "cell_type": "code",
   "execution_count": 33,
   "id": "5592b770",
   "metadata": {},
   "outputs": [],
   "source": [
    "shortbelow = np.array( [ np.sum( gmmoutcome[lT90<thr]==0)  for thr in np.log10(xgrid)] )\n",
    "longbelow = np.array( [ np.sum( gmmoutcome[lT90<thr]==1)  for thr in np.log10(xgrid)] )\n",
    "\n",
    "shortabove = np.array( [ np.sum( gmmoutcome[lT90>thr]==0)  for thr in np.log10(xgrid)] )\n",
    "longabove = np.array( [ np.sum( gmmoutcome[lT90>thr]==1)  for thr in np.log10(xgrid)] )"
   ]
  },
  {
   "cell_type": "code",
   "execution_count": 34,
   "id": "c0706ec2",
   "metadata": {},
   "outputs": [
    {
     "data": {
      "text/plain": [
       "<matplotlib.legend.Legend at 0x121fcd9a0>"
      ]
     },
     "execution_count": 34,
     "metadata": {},
     "output_type": "execute_result"
    },
    {
     "data": {
      "image/png": "[encoded data removed]",
      "text/plain": [
       "<Figure size 720x360 with 1 Axes>"
      ]
     },
     "metadata": {
      "needs_background": "light"
     },
     "output_type": "display_data"
    }
   ],
   "source": [
    "plt.plot(xgrid,shortbelow,label='Short GRB below treshold', c='C0',ls='solid')\n",
    "plt.plot(xgrid,shortabove,label='Short GRB above treshold',c='C0',ls='dashed')\n",
    "plt.plot(xgrid,longbelow,label='Long GRB below treshold',c='C1',ls='solid')\n",
    "plt.plot(xgrid,longabove,label='Long GRB above treshold',c='C1',ls='dashed')\n",
    "plt.semilogx()\n",
    "plt.axvline(edge,c='gray',ls='dashed',label='Kmeans edge')\n",
    "\n",
    "plt.axvspan(2,3,alpha=0.1,color='red',label='conventional wisdom')\n",
    "\n",
    "plt.legend()"
   ]
  },
  {
   "cell_type": "markdown",
   "id": "d4de733b",
   "metadata": {},
   "source": [
    "From scouting the litterature, it looks like people quote a separation between short and long GRBs somewhere between 2 and 3 seconds. Which is ok, but our is actually closer to 5"
   ]
  },
  {
   "cell_type": "code",
   "execution_count": 131,
   "id": "8eb80c87",
   "metadata": {},
   "outputs": [
    {
     "data": {
      "text/plain": [
       "5.615977207930957"
      ]
     },
     "execution_count": 131,
     "metadata": {},
     "output_type": "execute_result"
    }
   ],
   "source": [
    "edge"
   ]
  },
  {
   "cell_type": "markdown",
   "id": "0ab00ae6",
   "metadata": {},
   "source": [
    "# Hang on... I've neglected the errors!\n",
    "\n",
    "I just neglected all the measurment errors! Oh man, I'm a terrible statistician!\n",
    "\n",
    "Some data cleaning first:"
   ]
  },
  {
   "cell_type": "code",
   "execution_count": 35,
   "id": "5f42d8e9",
   "metadata": {},
   "outputs": [
    {
     "name": "stderr",
     "output_type": "stream",
     "text": [
      "/var/folders/zv/8t9z941x3q1gmp080mdw8k_h0000gn/T/ipykernel_9052/1425016.py:1: RuntimeWarning: invalid value encountered in log10\n",
      "  times = grb['T90'][~np.isnan(np.log10(grb['T90']))]\n",
      "/var/folders/zv/8t9z941x3q1gmp080mdw8k_h0000gn/T/ipykernel_9052/1425016.py:2: RuntimeWarning: invalid value encountered in log10\n",
      "  errortimes= grb['T90_error'][~np.isnan(np.log10(grb['T90']))]\n"
     ]
    }
   ],
   "source": [
    "times = grb['T90'][~np.isnan(np.log10(grb['T90']))]\n",
    "errortimes= grb['T90_error'][~np.isnan(np.log10(grb['T90']))]\n",
    "\n",
    "times = times[errortimes>-10]\n",
    "errortimes = errortimes[errortimes>-10]"
   ]
  },
  {
   "cell_type": "code",
   "execution_count": 36,
   "id": "311e3702",
   "metadata": {},
   "outputs": [
    {
     "data": {
      "text/plain": [
       "[]"
      ]
     },
     "execution_count": 36,
     "metadata": {},
     "output_type": "execute_result"
    },
    {
     "data": {
      "image/png": "[encoded data removed]",
      "text/plain": [
       "<Figure size 720x360 with 1 Axes>"
      ]
     },
     "metadata": {
      "needs_background": "light"
     },
     "output_type": "display_data"
    }
   ],
   "source": [
    "plt.scatter(times,errortimes,alpha=0.1)\n",
    "plt.plot([1e-1,1e2],[1e-1,1e2],c='black',ls='dotted')\n",
    "plt.semilogx()\n"
   ]
  },
  {
   "cell_type": "markdown",
   "id": "0ff69be8",
   "metadata": {},
   "source": [
    "The errors on the individual measurements are typically smaller the typical width of the distribution. So I'm happy, what I've done above (i.e. neglecting errors entirely) does make sense.\n",
    "\n",
    "This is not true for the low-t part of the sample. There might be a systematic bias there (which perhaps explains the difference in the cluster edge? Not sure). \n",
    "\n",
    "To relax this assumption, I could fit a correlated tww-dimensional gaussian model with either MCMC or nested sampling."
   ]
  },
  {
   "cell_type": "code",
   "execution_count": null,
   "id": "d19b22e5",
   "metadata": {},
   "outputs": [],
   "source": []
  },
  {
   "cell_type": "markdown",
   "id": "33efd3ab",
   "metadata": {},
   "source": [
    "## Redshifts\n",
    "\n",
    "Can I do something interesting with the redshift data?"
   ]
  },
  {
   "cell_type": "code",
   "execution_count": 64,
   "id": "5467e3b7",
   "metadata": {},
   "outputs": [
    {
     "name": "stderr",
     "output_type": "stream",
     "text": [
      "/var/folders/zv/8t9z941x3q1gmp080mdw8k_h0000gn/T/ipykernel_13285/1051128819.py:1: RuntimeWarning: invalid value encountered in log10\n",
      "  plt.scatter(grb['T90'][~np.isnan(np.log10(grb['T90']))],grb['redshift'][~np.isnan(np.log10(grb['T90']))])\n"
     ]
    },
    {
     "data": {
      "text/plain": [
       "(0.0, 10.0)"
      ]
     },
     "execution_count": 64,
     "metadata": {},
     "output_type": "execute_result"
    },
    {
     "data": {
      "image/png": "[encoded data removed]",
      "text/plain": [
       "<Figure size 720x360 with 1 Axes>"
      ]
     },
     "metadata": {
      "needs_background": "light"
     },
     "output_type": "display_data"
    }
   ],
   "source": [
    "plt.scatter(grb['T90'][~np.isnan(np.log10(grb['T90']))],grb['redshift'][~np.isnan(np.log10(grb['T90']))])\n",
    "plt.semilogx()\n",
    "plt.ylim(0,10)"
   ]
  },
  {
   "cell_type": "markdown",
   "id": "c1dd29f1",
   "metadata": {},
   "source": [
    "Looks like long GRBs are far and short GRBs are close. My physics background tells me this is right: long GRBs come from supernovae (young stars) while short  GRBS come from neutron-star mergers (old stars). \n",
    "\n",
    "But I don't understand/trust selection effects enough here. Redshift from short GRBs and much harder to get, so this might all be a selection bias."
   ]
  },
  {
   "cell_type": "code",
   "execution_count": null,
   "id": "bff4f071",
   "metadata": {},
   "outputs": [],
   "source": []
  },
  {
   "cell_type": "code",
   "execution_count": null,
   "id": "da170403",
   "metadata": {},
   "outputs": [],
   "source": []
  },
  {
   "cell_type": "code",
   "execution_count": null,
   "id": "8c7f4239",
   "metadata": {},
   "outputs": [],
   "source": []
  }
 ],
 "metadata": {
  "kernelspec": {
   "display_name": "Python 3 (ipykernel)",
   "language": "python",
   "name": "python3"
  },
  "language_info": {
   "codemirror_mode": {
    "name": "ipython",
    "version": 3
   },
   "file_extension": ".py",
   "mimetype": "text/x-python",
   "name": "python",
   "nbconvert_exporter": "python",
   "pygments_lexer": "ipython3",
   "version": "3.8.12"
  }
 },
 "nbformat": 4,
 "nbformat_minor": 5
}
